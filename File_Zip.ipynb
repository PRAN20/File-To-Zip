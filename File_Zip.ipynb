{
  "nbformat": 4,
  "nbformat_minor": 0,
  "metadata": {
    "colab": {
      "name": "File-Zip.ipynb",
      "provenance": [],
      "authorship_tag": "ABX9TyNzRRvdbvlysQgQQ6ixFAeT",
      "include_colab_link": true
    },
    "kernelspec": {
      "name": "python3",
      "display_name": "Python 3"
    },
    "language_info": {
      "name": "python"
    }
  },
  "cells": [
    {
      "cell_type": "markdown",
      "metadata": {
        "id": "view-in-github",
        "colab_type": "text"
      },
      "source": [
        "<a href=\"https://colab.research.google.com/github/PRAN20/File-To-Zip/blob/main/File_Zip.ipynb\" target=\"_parent\"><img src=\"https://colab.research.google.com/assets/colab-badge.svg\" alt=\"Open In Colab\"/></a>"
      ]
    },
    {
      "cell_type": "code",
      "execution_count": null,
      "metadata": {
        "id": "x-HutFBASRl0"
      },
      "outputs": [],
      "source": [
        "from zipfile import ZipFile\n",
        "import os\n",
        "  \n",
        "def get_all_file_paths(directory):\n",
        "  \n",
        "    # initializing empty file paths list\n",
        "    file_paths = []\n",
        "  \n",
        "    # crawling through directory and subdirectories\n",
        "    for root, directories, files in os.walk(directory):\n",
        "        for filename in files:\n",
        "            # join the two strings in order to form the full filepath.\n",
        "            filepath = os.path.join(root, filename)\n",
        "            file_paths.append(filepath)\n",
        "  \n",
        "    # returning all file paths\n",
        "    return file_paths        \n",
        "  \n",
        "def main():\n",
        "    directory = './cropped'\n",
        "    file_paths = get_all_file_paths(directory)\n",
        "    print('Following files will be zipped:')\n",
        "    for file_name in file_paths:\n",
        "        print(file_name)\n",
        "  \n",
        "    with ZipFile('my_python_files.zip','w') as zip:\n",
        "        for file in file_paths:\n",
        "            zip.write(file)\n",
        "  \n",
        "    print('All files zipped successfully!')        \n",
        "  \n",
        "if __name__ == \"__main__\":\n",
        "    main()"
      ]
    }
  ]
}